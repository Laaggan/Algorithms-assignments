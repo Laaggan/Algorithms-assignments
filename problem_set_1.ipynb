{
 "cells": [
  {
   "cell_type": "markdown",
   "metadata": {},
   "source": [
    "# Find all distances between the houses from the distances of neighbours"
   ]
  },
  {
   "cell_type": "code",
   "execution_count": 65,
   "metadata": {},
   "outputs": [],
   "source": [
    "import numpy as np\n",
    "# Initialize a dataset\n",
    "x = [1, 2, 1, 3]"
   ]
  },
  {
   "cell_type": "code",
   "execution_count": 69,
   "metadata": {},
   "outputs": [
    {
     "name": "stdout",
     "output_type": "stream",
     "text": [
      "[[0. 1. 3. 4. 7.]\n",
      " [0. 0. 2. 3. 6.]\n",
      " [0. 0. 0. 1. 4.]\n",
      " [0. 0. 0. 0. 3.]\n",
      " [0. 0. 0. 0. 0.]]\n",
      "[1, 2, 1, 3]\n"
     ]
    }
   ],
   "source": [
    "# Initialize data structure to store distances\n",
    "y1 = np.zeros((5,5))\n",
    "\n",
    "for i in range(n):\n",
    "    for j in range(i, n):\n",
    "        temp = 0\n",
    "        for k in range(i, j):\n",
    "            temp += x[k]\n",
    "        y1[i,j] = temp\n",
    "\n",
    "print(y)\n",
    "print(x)"
   ]
  },
  {
   "cell_type": "code",
   "execution_count": 67,
   "metadata": {},
   "outputs": [
    {
     "name": "stdout",
     "output_type": "stream",
     "text": [
      "1\n",
      "2\n",
      "4\n",
      "7\n"
     ]
    }
   ],
   "source": [
    "# When n = 5\n",
    "print(x[0])\n",
    "print(x[1])\n",
    "print(x[0]+x[1]+x[2])\n",
    "print(x[0]+x[1]+x[2]+x[3])\n",
    "\n",
    "# Algorithm seems to be correct"
   ]
  },
  {
   "cell_type": "code",
   "execution_count": 76,
   "metadata": {},
   "outputs": [
    {
     "name": "stdout",
     "output_type": "stream",
     "text": [
      "[[0. 1. 3. 4. 7.]\n",
      " [0. 0. 2. 3. 6.]\n",
      " [0. 0. 0. 1. 4.]\n",
      " [0. 0. 0. 0. 3.]\n",
      " [0. 0. 0. 0. 0.]]\n",
      "[[0. 1. 2. 1. 3.]\n",
      " [0. 0. 3. 4. 7.]\n",
      " [0. 0. 0. 3. 6.]\n",
      " [0. 0. 0. 0. 4.]\n",
      " [0. 0. 0. 0. 0.]]\n",
      "[1, 2, 1, 3]\n",
      "this is d: 1\n",
      "4.0\n"
     ]
    }
   ],
   "source": [
    "# Initialize data structure to store distances\n",
    "y2 = np.zeros((5,5))\n",
    "\n",
    "for i in range(5):\n",
    "    for j in range(i, 4):\n",
    "        if i == 0:\n",
    "            y2[i, j + 1] = x[j]\n",
    "        else:\n",
    "            y2[i, j + 1] = x[j] + y[i - 1, j]\n",
    "print(y1)\n",
    "print(y2)\n",
    "print(x)\n",
    "# Seems to be correct. Just that I have to convert diagonals to rows.\n",
    "\n",
    "def ConvertAtoY(A,i,j):\n",
    "    d = max(i,j) - min(i,j)\n",
    "    print(\"this is d: \" + str(d))\n",
    "    return A[d, j]\n",
    "\n",
    "print(ConvertAtoY(y2, 2, 3))\n"
   ]
  },
  {
   "cell_type": "markdown",
   "metadata": {},
   "source": [
    "# We want to rent a room of exactly size s but we know that there is no such room available our second option is to rent 2 rooms which adds to exactly s"
   ]
  },
  {
   "cell_type": "code",
   "execution_count": null,
   "metadata": {},
   "outputs": [],
   "source": [
    "# We re-use the data x from the problem above"
   ]
  }
 ],
 "metadata": {
  "kernelspec": {
   "display_name": "Python 3",
   "language": "python",
   "name": "python3"
  },
  "language_info": {
   "codemirror_mode": {
    "name": "ipython",
    "version": 3
   },
   "file_extension": ".py",
   "mimetype": "text/x-python",
   "name": "python",
   "nbconvert_exporter": "python",
   "pygments_lexer": "ipython3",
   "version": "3.6.9"
  }
 },
 "nbformat": 4,
 "nbformat_minor": 4
}
